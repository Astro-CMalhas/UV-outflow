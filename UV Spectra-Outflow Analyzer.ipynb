{
 "cells": [
  {
   "cell_type": "code",
   "execution_count": 3,
   "id": "f9830283",
   "metadata": {},
   "outputs": [],
   "source": [
    "import os\n",
    "import numpy as np\n",
    "import matplotlib.pyplot as plt\n",
    "import astropy.io.fits as fits\n",
    "from scipy.integrate import quad\n",
    "from scipy import integrate as intg\n",
    "import sympy as sp\n",
    "from scipy import stats\n",
    "from scipy.interpolate import UnivariateSpline\n",
    "import pandas as pd\n",
    "from scipy.stats import linregress\n",
    "from scipy.stats import norm\n",
    "import os\n",
    "import seaborn as sns\n",
    "from matplotlib import pyplot as plt, patches\n",
    "import statistics \n",
    "import tkinter as tk\n",
    "from tkinter import messagebox"
   ]
  },
  {
   "cell_type": "code",
   "execution_count": 10,
   "id": "13a842ea",
   "metadata": {},
   "outputs": [],
   "source": [
    "def analyze_new_galaxy():\n",
    "    messagebox.showinfo(\"Analyze New Galaxy\", \"This option will analyze a new galaxy.\")\n",
    "\n",
    "def review_past_galaxies():\n",
    "    messagebox.showinfo(\"Review Past Galaxies\", \"This option will review past galaxies.\")\n",
    "\n",
    "def open_settings():\n",
    "    messagebox.showinfo(\"Settings\", \"This option will open the settings menu.\")\n",
    "\n",
    "def exit_program():\n",
    "    window.destroy()\n",
    "\n",
    "# Create the main window\n",
    "window = tk.Tk()\n",
    "window.title(\"UV Spectra-Outflow Analyzer\")\n",
    "window.geometry(\"600x600\")  # Set the window size to 400x300 pixels\n",
    "\n",
    "# Create the main menu options\n",
    "label = tk.Label(window, text=\"Main Menu\", font=(\"Arial\", 20))\n",
    "label.pack(pady=20)\n",
    "\n",
    "btn_analyze = tk.Button(window, text=\"Analyze New Galaxy\", command=analyze_new_galaxy, font=(\"Arial\", 14))\n",
    "btn_analyze.pack(pady=10)\n",
    "\n",
    "btn_review = tk.Button(window, text=\"Review Past Galaxies\", command=review_past_galaxies, font=(\"Arial\", 14))\n",
    "btn_review.pack(pady=10)\n",
    "\n",
    "btn_settings = tk.Button(window, text=\"Settings\", command=open_settings, font=(\"Arial\", 14))\n",
    "btn_settings.pack(pady=10)\n",
    "\n",
    "btn_exit = tk.Button(window, text=\"Exit\", command=exit_program, font=(\"Arial\", 14))\n",
    "btn_exit.pack(pady=10)\n",
    "\n",
    "# Start the GUI event loop\n",
    "window.mainloop()"
   ]
  },
  {
   "cell_type": "code",
   "execution_count": null,
   "id": "e366ac47",
   "metadata": {},
   "outputs": [],
   "source": []
  }
 ],
 "metadata": {
  "kernelspec": {
   "display_name": "Python 3 (ipykernel)",
   "language": "python",
   "name": "python3"
  },
  "language_info": {
   "codemirror_mode": {
    "name": "ipython",
    "version": 3
   },
   "file_extension": ".py",
   "mimetype": "text/x-python",
   "name": "python",
   "nbconvert_exporter": "python",
   "pygments_lexer": "ipython3",
   "version": "3.9.13"
  }
 },
 "nbformat": 4,
 "nbformat_minor": 5
}
